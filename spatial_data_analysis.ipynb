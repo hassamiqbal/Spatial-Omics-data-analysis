{
  "nbformat": 4,
  "nbformat_minor": 0,
  "metadata": {
    "colab": {
      "provenance": [],
      "authorship_tag": "ABX9TyPZTzLt7BTjk7Mi7ZLzmZ4R",
      "include_colab_link": true
    },
    "kernelspec": {
      "name": "python3",
      "display_name": "Python 3"
    },
    "language_info": {
      "name": "python"
    }
  },
  "cells": [
    {
      "cell_type": "markdown",
      "metadata": {
        "id": "view-in-github",
        "colab_type": "text"
      },
      "source": [
        "<a href=\"https://colab.research.google.com/github/hassamiqbal/Spatial-Omics-data-analysis/blob/main/spatial_data_analysis.ipynb\" target=\"_parent\"><img src=\"https://colab.research.google.com/assets/colab-badge.svg\" alt=\"Open In Colab\"/></a>"
      ]
    },
    {
      "cell_type": "code",
      "source": [
        "pip install spatialpower"
      ],
      "metadata": {
        "id": "lACCuTUcEd4Z",
        "outputId": "a3a81a36-1eaf-4331-c8e7-a50f08e66b12",
        "colab": {
          "base_uri": "https://localhost:8080/"
        }
      },
      "execution_count": 3,
      "outputs": [
        {
          "output_type": "stream",
          "name": "stdout",
          "text": [
            "\u001b[31mERROR: Could not find a version that satisfies the requirement spatialpower (from versions: none)\u001b[0m\u001b[31m\n",
            "\u001b[0m\u001b[31mERROR: No matching distribution found for spatialpower\u001b[0m\u001b[31m\n",
            "\u001b[0m"
          ]
        }
      ]
    },
    {
      "cell_type": "code",
      "execution_count": 4,
      "metadata": {
        "id": "CQtpuNsSAxbm",
        "outputId": "8cc571ea-89b6-464f-ef62-99dac8bfc39f",
        "colab": {
          "base_uri": "https://localhost:8080/",
          "height": 383
        }
      },
      "outputs": [
        {
          "output_type": "error",
          "ename": "ModuleNotFoundError",
          "evalue": "No module named 'spatialpower'",
          "traceback": [
            "\u001b[0;31m---------------------------------------------------------------------------\u001b[0m",
            "\u001b[0;31mModuleNotFoundError\u001b[0m                       Traceback (most recent call last)",
            "\u001b[0;32m<ipython-input-4-7d7262509665>\u001b[0m in \u001b[0;36m<cell line: 2>\u001b[0;34m()\u001b[0m\n\u001b[1;32m      1\u001b[0m \u001b[0;32mimport\u001b[0m \u001b[0mnumpy\u001b[0m \u001b[0;32mas\u001b[0m \u001b[0mnp\u001b[0m\u001b[0;34m\u001b[0m\u001b[0;34m\u001b[0m\u001b[0m\n\u001b[0;32m----> 2\u001b[0;31m \u001b[0;32mimport\u001b[0m \u001b[0mspatialpower\u001b[0m\u001b[0;34m.\u001b[0m\u001b[0mtissue_generation\u001b[0m\u001b[0;34m.\u001b[0m\u001b[0massign_labels\u001b[0m \u001b[0;32mas\u001b[0m \u001b[0massign_labels\u001b[0m\u001b[0;34m\u001b[0m\u001b[0;34m\u001b[0m\u001b[0m\n\u001b[0m\u001b[1;32m      3\u001b[0m \u001b[0;32mimport\u001b[0m \u001b[0mspatialpower\u001b[0m\u001b[0;34m.\u001b[0m\u001b[0mtissue_generation\u001b[0m\u001b[0;34m.\u001b[0m\u001b[0mvisualization\u001b[0m \u001b[0;32mas\u001b[0m \u001b[0mviz\u001b[0m\u001b[0;34m\u001b[0m\u001b[0;34m\u001b[0m\u001b[0m\n\u001b[1;32m      4\u001b[0m \u001b[0;32mimport\u001b[0m \u001b[0mspatialpower\u001b[0m\u001b[0;34m.\u001b[0m\u001b[0mneighborhoods\u001b[0m\u001b[0;34m.\u001b[0m\u001b[0mpermutationtest\u001b[0m \u001b[0;32mas\u001b[0m \u001b[0mperm_test\u001b[0m\u001b[0;34m\u001b[0m\u001b[0;34m\u001b[0m\u001b[0m\n\u001b[1;32m      5\u001b[0m \u001b[0;34m\u001b[0m\u001b[0m\n",
            "\u001b[0;31mModuleNotFoundError\u001b[0m: No module named 'spatialpower'",
            "",
            "\u001b[0;31m---------------------------------------------------------------------------\u001b[0;32m\nNOTE: If your import is failing due to a missing package, you can\nmanually install dependencies using either !pip or !apt.\n\nTo view examples of installing some common dependencies, click the\n\"Open Examples\" button below.\n\u001b[0;31m---------------------------------------------------------------------------\u001b[0m\n"
          ],
          "errorDetails": {
            "actions": [
              {
                "action": "open_url",
                "actionText": "Open Examples",
                "url": "/notebooks/snippets/importing_libraries.ipynb"
              }
            ]
          }
        }
      ],
      "source": [
        "import numpy as np\n",
        "import spatialpower.tissue_generation.assign_labels as assign_labels\n",
        "import spatialpower.tissue_generation.visualization as viz\n",
        "import spatialpower.neighborhoods.permutationtest as perm_test\n",
        "\n",
        "import networkx as nx"
      ]
    },
    {
      "cell_type": "code",
      "source": [
        "%%bash\n",
        "\n",
        "python spatialpower/tissue_generation/random_circle_packing.py -x 1000 -y 1000 -o sample_results\n",
        "\n",
        "# see python spatialpower/tissue_generation/random_circle_packing.py --help for full options"
      ],
      "metadata": {
        "id": "6aR5BGiiEYNV"
      },
      "execution_count": null,
      "outputs": []
    },
    {
      "cell_type": "code",
      "source": [
        "A = np.load('./sample_results/A.npy')\n",
        "C =  np.load('./sample_results/C.npy')"
      ],
      "metadata": {
        "id": "9lF1Hx6KEYRQ"
      },
      "execution_count": null,
      "outputs": []
    },
    {
      "cell_type": "code",
      "source": [
        "cell_type_probabilities = np.array([0.7, 0.1, 0.1, 0.1])\n",
        "\n",
        "\n",
        "neighborhood_probabilities = np.array(([0.60, 0.13, 0.13, 0.14],\n",
        "                                        [0.13, 0.29, 0.29, 0.29],\n",
        "                                        [0.13, 0.29, 0.29, 0.29],\n",
        "                                        [0.14, 0.29, 0.29, 0.28]))"
      ],
      "metadata": {
        "id": "RMG53E-vEYT9"
      },
      "execution_count": null,
      "outputs": []
    },
    {
      "cell_type": "code",
      "source": [],
      "metadata": {
        "id": "YpU84Hz0EYWc"
      },
      "execution_count": null,
      "outputs": []
    },
    {
      "cell_type": "code",
      "source": [],
      "metadata": {
        "id": "j0Vy3r7eEYYs"
      },
      "execution_count": null,
      "outputs": []
    },
    {
      "cell_type": "code",
      "source": [],
      "metadata": {
        "id": "Q-UHRgFkEYa4"
      },
      "execution_count": null,
      "outputs": []
    }
  ]
}